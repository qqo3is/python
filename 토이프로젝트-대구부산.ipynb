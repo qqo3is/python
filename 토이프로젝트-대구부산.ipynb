{
 "cells": [
  {
   "cell_type": "code",
   "execution_count": 2,
   "metadata": {},
   "outputs": [
    {
     "name": "stdout",
     "output_type": "stream",
     "text": [
      "<class 'pandas.core.frame.DataFrame'>\n",
      "RangeIndex: 366 entries, 0 to 365\n",
      "Data columns (total 3 columns):\n",
      " #   Column      Non-Null Count  Dtype  \n",
      "---  ------      --------------  -----  \n",
      " 0   날짜          366 non-null    object \n",
      " 1   부산 강수량(mm)  366 non-null    float64\n",
      " 2   대구 강수량(mm)  366 non-null    float64\n",
      "dtypes: float64(2), object(1)\n",
      "memory usage: 7.2+ KB\n"
     ]
    }
   ],
   "source": [
    "import pandas as pd\n",
    "df = pd.read_csv(\"busan_daegu_rain.csv\", encoding=\"cp949\")\n",
    "df.info()"
   ]
  },
  {
   "cell_type": "code",
   "execution_count": 31,
   "metadata": {},
   "outputs": [
    {
     "data": {
      "image/png": "[encoded data removed]",
      "text/plain": [
       "<Figure size 720x504 with 1 Axes>"
      ]
     },
     "metadata": {
      "needs_background": "light"
     },
     "output_type": "display_data"
    }
   ],
   "source": [
    "import csv\n",
    "import matplotlib.pyplot as plt\n",
    "\n",
    "f = open(\"busan_daegu_rain.csv\")\n",
    "data = csv.reader(f)\n",
    "header = next(data)\n",
    "#print(header)\n",
    "\n",
    "busan = []\n",
    "daegu = []\n",
    "\n",
    "for row in data:\n",
    "    busan.append(-float(row[1]))\n",
    "    daegu.append(float(row[2]))\n",
    "    \n",
    "#print(len(busan))\n",
    "#print(len(daegu))\n",
    "\n",
    "plt.figure(figsize = (10,7))\n",
    "plt.rc('font', family = \"Malgun Gothic\")\n",
    "plt.title(\"2020년 부산, 대구 강우량\", pad = 10)\n",
    "plt.rcParams['axes.unicode_minus'] = False\n",
    "plt.barh(range(366), busan, color = 'skyblue', label = '부산')\n",
    "plt.barh(range(366), daegu, color = 'limegreen', label = '대구')\n",
    "plt.legend()\n",
    "plt.show()"
   ]
  },
  {
   "cell_type": "code",
   "execution_count": null,
   "metadata": {},
   "outputs": [],
   "source": []
  },
  {
   "cell_type": "code",
   "execution_count": null,
   "metadata": {},
   "outputs": [],
   "source": []
  },
  {
   "cell_type": "code",
   "execution_count": null,
   "metadata": {},
   "outputs": [],
   "source": []
  }
 ],
 "metadata": {
  "kernelspec": {
   "display_name": "Python 3",
   "language": "python",
   "name": "python3"
  },
  "language_info": {
   "codemirror_mode": {
    "name": "ipython",
    "version": 3
   },
   "file_extension": ".py",
   "mimetype": "text/x-python",
   "name": "python",
   "nbconvert_exporter": "python",
   "pygments_lexer": "ipython3",
   "version": "3.8.5"
  }
 },
 "nbformat": 4,
 "nbformat_minor": 4
}
